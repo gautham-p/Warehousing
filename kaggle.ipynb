{
 "cells": [
  {
   "cell_type": "code",
   "execution_count": 1,
   "metadata": {},
   "outputs": [],
   "source": [
    "from kaggle.api.kaggle_api_extended import KaggleApi\n",
    "api = KaggleApi()\n",
    "api.authenticate()"
   ]
  },
  {
   "cell_type": "code",
   "execution_count": 2,
   "metadata": {},
   "outputs": [
    {
     "name": "stdout",
     "output_type": "stream",
     "text": [
      "ref                                  deadline             category   reward  teamCount  userHasEntered  \n",
      "-----------------------------------  -------------------  --------  -------  ---------  --------------  \n",
      "mpetitions/home-credit-default-risk  2018-08-29 23:59:00  Featured  $70,000       7176            True  \n"
     ]
    }
   ],
   "source": [
    "competition=api.competitions_list(search='home-credit-default-risk')\n",
    "api.competitions_list_cli(search='home-credit-default-risk')\n"
   ]
  },
  {
   "cell_type": "code",
   "execution_count": 3,
   "metadata": {},
   "outputs": [
    {
     "name": "stdout",
     "output_type": "stream",
     "text": [
      "mpetitions/home-credit-default-risk,$70,000,0\n",
      "mpetitions/home-credit-default-risk\n"
     ]
    }
   ],
   "source": [
    "for comp in competition:\n",
    "    print(comp.ref,comp.reward,comp.userRank,sep=',')\n",
    "    print(comp)"
   ]
  },
  {
   "cell_type": "code",
   "execution_count": 4,
   "metadata": {},
   "outputs": [
    {
     "data": {
      "text/plain": [
       "kaggle.models.kaggle_models_extended.Competition"
      ]
     },
     "execution_count": 4,
     "metadata": {},
     "output_type": "execute_result"
    }
   ],
   "source": [
    "type(comp)"
   ]
  },
  {
   "cell_type": "code",
   "execution_count": 5,
   "metadata": {},
   "outputs": [
    {
     "data": {
      "text/plain": [
       "'d:\\\\Projects\\\\Warehousing'"
      ]
     },
     "execution_count": 5,
     "metadata": {},
     "output_type": "execute_result"
    }
   ],
   "source": [
    "import os\n",
    "os.getcwd()"
   ]
  },
  {
   "cell_type": "code",
   "execution_count": 6,
   "metadata": {},
   "outputs": [
    {
     "data": {
      "text/plain": [
       "'d:\\\\Projects\\\\Warehousing\\\\Staging_Files_Kaggle\\\\home-credit-default-risk'"
      ]
     },
     "execution_count": 6,
     "metadata": {},
     "output_type": "execute_result"
    }
   ],
   "source": [
    "path = os.path.join(os.path.abspath('Staging_Files_Kaggle'), \"home-credit-default-risk\")\n",
    "if(os.path.isdir(path)):\n",
    "    os.chdir(path)\n",
    "else:\n",
    "    os.mkdir(path)\n",
    "    os.chdir(path)\n",
    "os.getcwd()"
   ]
  },
  {
   "cell_type": "code",
   "execution_count": 7,
   "metadata": {},
   "outputs": [],
   "source": [
    "files=api.competitions_data_list_files('home-credit-default-risk')\n",
    "api.competitions_data_list_files('home-credit-default-risk')\n",
    "kaggle_project_name='home-credit-default-risk'"
   ]
  },
  {
   "cell_type": "code",
   "execution_count": 8,
   "metadata": {},
   "outputs": [
    {
     "name": "stdout",
     "output_type": "stream",
     "text": [
      "installments_payments.csv\n",
      "Downloading installments_payments.csv.zip to d:\\Projects\\Warehousing\\Staging_Files_Kaggle\\home-credit-default-risk\n"
     ]
    },
    {
     "name": "stderr",
     "output_type": "stream",
     "text": [
      "100%|██████████| 271M/271M [02:20<00:00, 2.02MB/s] \n"
     ]
    },
    {
     "name": "stdout",
     "output_type": "stream",
     "text": [
      "\n",
      "HomeCredit_columns_description.csv\n",
      "Downloading HomeCredit_columns_description.csv to d:\\Projects\\Warehousing\\Staging_Files_Kaggle\\home-credit-default-risk\n"
     ]
    },
    {
     "name": "stderr",
     "output_type": "stream",
     "text": [
      "100%|██████████| 36.5k/36.5k [00:00<00:00, 1.14MB/s]"
     ]
    },
    {
     "name": "stdout",
     "output_type": "stream",
     "text": [
      "\n",
      "POS_CASH_balance.csv\n"
     ]
    },
    {
     "name": "stderr",
     "output_type": "stream",
     "text": [
      "\n"
     ]
    },
    {
     "name": "stdout",
     "output_type": "stream",
     "text": [
      "Downloading POS_CASH_balance.csv.zip to d:\\Projects\\Warehousing\\Staging_Files_Kaggle\\home-credit-default-risk\n"
     ]
    },
    {
     "name": "stderr",
     "output_type": "stream",
     "text": [
      "100%|██████████| 109M/109M [00:52<00:00, 2.19MB/s] \n"
     ]
    },
    {
     "name": "stdout",
     "output_type": "stream",
     "text": [
      "\n",
      "sample_submission.csv\n",
      "Downloading sample_submission.csv to d:\\Projects\\Warehousing\\Staging_Files_Kaggle\\home-credit-default-risk\n"
     ]
    },
    {
     "name": "stderr",
     "output_type": "stream",
     "text": [
      "100%|██████████| 524k/524k [00:00<00:00, 2.58MB/s]\n"
     ]
    },
    {
     "name": "stdout",
     "output_type": "stream",
     "text": [
      "\n",
      "application_train.csv\n",
      "Downloading application_train.csv.zip to d:\\Projects\\Warehousing\\Staging_Files_Kaggle\\home-credit-default-risk\n"
     ]
    },
    {
     "name": "stderr",
     "output_type": "stream",
     "text": [
      "100%|██████████| 36.1M/36.1M [00:16<00:00, 2.26MB/s]\n"
     ]
    },
    {
     "name": "stdout",
     "output_type": "stream",
     "text": [
      "\n",
      "application_test.csv\n",
      "Downloading application_test.csv.zip to d:\\Projects\\Warehousing\\Staging_Files_Kaggle\\home-credit-default-risk\n"
     ]
    },
    {
     "name": "stderr",
     "output_type": "stream",
     "text": [
      "100%|██████████| 5.81M/5.81M [00:01<00:00, 3.17MB/s]\n"
     ]
    },
    {
     "name": "stdout",
     "output_type": "stream",
     "text": [
      "\n",
      "credit_card_balance.csv\n",
      "Downloading credit_card_balance.csv.zip to d:\\Projects\\Warehousing\\Staging_Files_Kaggle\\home-credit-default-risk\n"
     ]
    },
    {
     "name": "stderr",
     "output_type": "stream",
     "text": [
      "100%|██████████| 96.7M/96.7M [00:45<00:00, 2.25MB/s]\n"
     ]
    },
    {
     "name": "stdout",
     "output_type": "stream",
     "text": [
      "\n",
      "previous_application.csv\n",
      "Downloading previous_application.csv.zip to d:\\Projects\\Warehousing\\Staging_Files_Kaggle\\home-credit-default-risk\n"
     ]
    },
    {
     "name": "stderr",
     "output_type": "stream",
     "text": [
      "100%|██████████| 76.3M/76.3M [00:28<00:00, 2.85MB/s]\n"
     ]
    },
    {
     "name": "stdout",
     "output_type": "stream",
     "text": [
      "\n",
      "bureau_balance.csv\n",
      "Downloading bureau_balance.csv.zip to d:\\Projects\\Warehousing\\Staging_Files_Kaggle\\home-credit-default-risk\n"
     ]
    },
    {
     "name": "stderr",
     "output_type": "stream",
     "text": [
      "100%|██████████| 56.8M/56.8M [00:27<00:00, 2.14MB/s]\n"
     ]
    },
    {
     "name": "stdout",
     "output_type": "stream",
     "text": [
      "\n",
      "bureau.csv\n",
      "Downloading bureau.csv.zip to d:\\Projects\\Warehousing\\Staging_Files_Kaggle\\home-credit-default-risk\n"
     ]
    },
    {
     "name": "stderr",
     "output_type": "stream",
     "text": [
      "100%|██████████| 36.8M/36.8M [00:17<00:00, 2.21MB/s]"
     ]
    },
    {
     "name": "stdout",
     "output_type": "stream",
     "text": [
      "\n"
     ]
    },
    {
     "name": "stderr",
     "output_type": "stream",
     "text": [
      "\n"
     ]
    }
   ],
   "source": [
    "for file in files:\n",
    "    print(file.get('name'))\n",
    "    api.competition_download_file('home-credit-default-risk',file.get('name'),force=True)"
   ]
  },
  {
   "cell_type": "code",
   "execution_count": 70,
   "metadata": {},
   "outputs": [],
   "source": [
    "import os, zipfile\n",
    "def list_files(path,file_type):\n",
    "    dir_name = path\n",
    "    extension = file_type\n",
    "    file_name=[]\n",
    "\n",
    "    for item in os.listdir(dir_name): # loop through items in dir\n",
    "        if item.endswith(extension): # check for \".zip\" extension\n",
    "            file_name.append(os.path.abspath(item)) # get full path of files\n",
    "    return file_name\n",
    "            "
   ]
  },
  {
   "cell_type": "code",
   "execution_count": 11,
   "metadata": {},
   "outputs": [],
   "source": [
    "for file_name in list_files(os.getcwd(),\".zip\"):\n",
    "    zip_ref = zipfile.ZipFile(file_name) # create zipfile object\n",
    "    zip_ref.extractall(os.getcwd()) # extract file to dir\n",
    "    zip_ref.close() # close file\n",
    "    os.remove(file_name) # delete zipped file"
   ]
  },
  {
   "cell_type": "code",
   "execution_count": 71,
   "metadata": {},
   "outputs": [
    {
     "name": "stdout",
     "output_type": "stream",
     "text": [
      "application_test\n",
      "application_train\n",
      "bureau\n",
      "bureau_balance\n",
      "credit_card_balance\n",
      "HomeCredit_columns_description\n",
      "installments_payments\n",
      "POS_CASH_balance\n",
      "previous_application\n",
      "sample_submission\n",
      "List of file names :  ['application_test', 'application_train', 'bureau', 'bureau_balance', 'credit_card_balance', 'HomeCredit_columns_description', 'installments_payments', 'POS_CASH_balance', 'previous_application', 'sample_submission']\n",
      "List of column names :  [['SK_ID_CURR', 'NAME_CONTRACT_TYPE', 'CODE_GENDER', 'FLAG_OWN_CAR', 'FLAG_OWN_REALTY', 'CNT_CHILDREN', 'AMT_INCOME_TOTAL', 'AMT_CREDIT', 'AMT_ANNUITY', 'AMT_GOODS_PRICE', 'NAME_TYPE_SUITE', 'NAME_INCOME_TYPE', 'NAME_EDUCATION_TYPE', 'NAME_FAMILY_STATUS', 'NAME_HOUSING_TYPE', 'REGION_POPULATION_RELATIVE', 'DAYS_BIRTH', 'DAYS_EMPLOYED', 'DAYS_REGISTRATION', 'DAYS_ID_PUBLISH', 'OWN_CAR_AGE', 'FLAG_MOBIL', 'FLAG_EMP_PHONE', 'FLAG_WORK_PHONE', 'FLAG_CONT_MOBILE', 'FLAG_PHONE', 'FLAG_EMAIL', 'OCCUPATION_TYPE', 'CNT_FAM_MEMBERS', 'REGION_RATING_CLIENT', 'REGION_RATING_CLIENT_W_CITY', 'WEEKDAY_APPR_PROCESS_START', 'HOUR_APPR_PROCESS_START', 'REG_REGION_NOT_LIVE_REGION', 'REG_REGION_NOT_WORK_REGION', 'LIVE_REGION_NOT_WORK_REGION', 'REG_CITY_NOT_LIVE_CITY', 'REG_CITY_NOT_WORK_CITY', 'LIVE_CITY_NOT_WORK_CITY', 'ORGANIZATION_TYPE', 'EXT_SOURCE_1', 'EXT_SOURCE_2', 'EXT_SOURCE_3', 'APARTMENTS_AVG', 'BASEMENTAREA_AVG', 'YEARS_BEGINEXPLUATATION_AVG', 'YEARS_BUILD_AVG', 'COMMONAREA_AVG', 'ELEVATORS_AVG', 'ENTRANCES_AVG', 'FLOORSMAX_AVG', 'FLOORSMIN_AVG', 'LANDAREA_AVG', 'LIVINGAPARTMENTS_AVG', 'LIVINGAREA_AVG', 'NONLIVINGAPARTMENTS_AVG', 'NONLIVINGAREA_AVG', 'APARTMENTS_MODE', 'BASEMENTAREA_MODE', 'YEARS_BEGINEXPLUATATION_MODE', 'YEARS_BUILD_MODE', 'COMMONAREA_MODE', 'ELEVATORS_MODE', 'ENTRANCES_MODE', 'FLOORSMAX_MODE', 'FLOORSMIN_MODE', 'LANDAREA_MODE', 'LIVINGAPARTMENTS_MODE', 'LIVINGAREA_MODE', 'NONLIVINGAPARTMENTS_MODE', 'NONLIVINGAREA_MODE', 'APARTMENTS_MEDI', 'BASEMENTAREA_MEDI', 'YEARS_BEGINEXPLUATATION_MEDI', 'YEARS_BUILD_MEDI', 'COMMONAREA_MEDI', 'ELEVATORS_MEDI', 'ENTRANCES_MEDI', 'FLOORSMAX_MEDI', 'FLOORSMIN_MEDI', 'LANDAREA_MEDI', 'LIVINGAPARTMENTS_MEDI', 'LIVINGAREA_MEDI', 'NONLIVINGAPARTMENTS_MEDI', 'NONLIVINGAREA_MEDI', 'FONDKAPREMONT_MODE', 'HOUSETYPE_MODE', 'TOTALAREA_MODE', 'WALLSMATERIAL_MODE', 'EMERGENCYSTATE_MODE', 'OBS_30_CNT_SOCIAL_CIRCLE', 'DEF_30_CNT_SOCIAL_CIRCLE', 'OBS_60_CNT_SOCIAL_CIRCLE', 'DEF_60_CNT_SOCIAL_CIRCLE', 'DAYS_LAST_PHONE_CHANGE', 'FLAG_DOCUMENT_2', 'FLAG_DOCUMENT_3', 'FLAG_DOCUMENT_4', 'FLAG_DOCUMENT_5', 'FLAG_DOCUMENT_6', 'FLAG_DOCUMENT_7', 'FLAG_DOCUMENT_8', 'FLAG_DOCUMENT_9', 'FLAG_DOCUMENT_10', 'FLAG_DOCUMENT_11', 'FLAG_DOCUMENT_12', 'FLAG_DOCUMENT_13', 'FLAG_DOCUMENT_14', 'FLAG_DOCUMENT_15', 'FLAG_DOCUMENT_16', 'FLAG_DOCUMENT_17', 'FLAG_DOCUMENT_18', 'FLAG_DOCUMENT_19', 'FLAG_DOCUMENT_20', 'FLAG_DOCUMENT_21', 'AMT_REQ_CREDIT_BUREAU_HOUR', 'AMT_REQ_CREDIT_BUREAU_DAY', 'AMT_REQ_CREDIT_BUREAU_WEEK', 'AMT_REQ_CREDIT_BUREAU_MON', 'AMT_REQ_CREDIT_BUREAU_QRT', 'AMT_REQ_CREDIT_BUREAU_YEAR'], ['SK_ID_CURR', 'TARGET', 'NAME_CONTRACT_TYPE', 'CODE_GENDER', 'FLAG_OWN_CAR', 'FLAG_OWN_REALTY', 'CNT_CHILDREN', 'AMT_INCOME_TOTAL', 'AMT_CREDIT', 'AMT_ANNUITY', 'AMT_GOODS_PRICE', 'NAME_TYPE_SUITE', 'NAME_INCOME_TYPE', 'NAME_EDUCATION_TYPE', 'NAME_FAMILY_STATUS', 'NAME_HOUSING_TYPE', 'REGION_POPULATION_RELATIVE', 'DAYS_BIRTH', 'DAYS_EMPLOYED', 'DAYS_REGISTRATION', 'DAYS_ID_PUBLISH', 'OWN_CAR_AGE', 'FLAG_MOBIL', 'FLAG_EMP_PHONE', 'FLAG_WORK_PHONE', 'FLAG_CONT_MOBILE', 'FLAG_PHONE', 'FLAG_EMAIL', 'OCCUPATION_TYPE', 'CNT_FAM_MEMBERS', 'REGION_RATING_CLIENT', 'REGION_RATING_CLIENT_W_CITY', 'WEEKDAY_APPR_PROCESS_START', 'HOUR_APPR_PROCESS_START', 'REG_REGION_NOT_LIVE_REGION', 'REG_REGION_NOT_WORK_REGION', 'LIVE_REGION_NOT_WORK_REGION', 'REG_CITY_NOT_LIVE_CITY', 'REG_CITY_NOT_WORK_CITY', 'LIVE_CITY_NOT_WORK_CITY', 'ORGANIZATION_TYPE', 'EXT_SOURCE_1', 'EXT_SOURCE_2', 'EXT_SOURCE_3', 'APARTMENTS_AVG', 'BASEMENTAREA_AVG', 'YEARS_BEGINEXPLUATATION_AVG', 'YEARS_BUILD_AVG', 'COMMONAREA_AVG', 'ELEVATORS_AVG', 'ENTRANCES_AVG', 'FLOORSMAX_AVG', 'FLOORSMIN_AVG', 'LANDAREA_AVG', 'LIVINGAPARTMENTS_AVG', 'LIVINGAREA_AVG', 'NONLIVINGAPARTMENTS_AVG', 'NONLIVINGAREA_AVG', 'APARTMENTS_MODE', 'BASEMENTAREA_MODE', 'YEARS_BEGINEXPLUATATION_MODE', 'YEARS_BUILD_MODE', 'COMMONAREA_MODE', 'ELEVATORS_MODE', 'ENTRANCES_MODE', 'FLOORSMAX_MODE', 'FLOORSMIN_MODE', 'LANDAREA_MODE', 'LIVINGAPARTMENTS_MODE', 'LIVINGAREA_MODE', 'NONLIVINGAPARTMENTS_MODE', 'NONLIVINGAREA_MODE', 'APARTMENTS_MEDI', 'BASEMENTAREA_MEDI', 'YEARS_BEGINEXPLUATATION_MEDI', 'YEARS_BUILD_MEDI', 'COMMONAREA_MEDI', 'ELEVATORS_MEDI', 'ENTRANCES_MEDI', 'FLOORSMAX_MEDI', 'FLOORSMIN_MEDI', 'LANDAREA_MEDI', 'LIVINGAPARTMENTS_MEDI', 'LIVINGAREA_MEDI', 'NONLIVINGAPARTMENTS_MEDI', 'NONLIVINGAREA_MEDI', 'FONDKAPREMONT_MODE', 'HOUSETYPE_MODE', 'TOTALAREA_MODE', 'WALLSMATERIAL_MODE', 'EMERGENCYSTATE_MODE', 'OBS_30_CNT_SOCIAL_CIRCLE', 'DEF_30_CNT_SOCIAL_CIRCLE', 'OBS_60_CNT_SOCIAL_CIRCLE', 'DEF_60_CNT_SOCIAL_CIRCLE', 'DAYS_LAST_PHONE_CHANGE', 'FLAG_DOCUMENT_2', 'FLAG_DOCUMENT_3', 'FLAG_DOCUMENT_4', 'FLAG_DOCUMENT_5', 'FLAG_DOCUMENT_6', 'FLAG_DOCUMENT_7', 'FLAG_DOCUMENT_8', 'FLAG_DOCUMENT_9', 'FLAG_DOCUMENT_10', 'FLAG_DOCUMENT_11', 'FLAG_DOCUMENT_12', 'FLAG_DOCUMENT_13', 'FLAG_DOCUMENT_14', 'FLAG_DOCUMENT_15', 'FLAG_DOCUMENT_16', 'FLAG_DOCUMENT_17', 'FLAG_DOCUMENT_18', 'FLAG_DOCUMENT_19', 'FLAG_DOCUMENT_20', 'FLAG_DOCUMENT_21', 'AMT_REQ_CREDIT_BUREAU_HOUR', 'AMT_REQ_CREDIT_BUREAU_DAY', 'AMT_REQ_CREDIT_BUREAU_WEEK', 'AMT_REQ_CREDIT_BUREAU_MON', 'AMT_REQ_CREDIT_BUREAU_QRT', 'AMT_REQ_CREDIT_BUREAU_YEAR'], ['SK_ID_CURR', 'SK_ID_BUREAU', 'CREDIT_ACTIVE', 'CREDIT_CURRENCY', 'DAYS_CREDIT', 'CREDIT_DAY_OVERDUE', 'DAYS_CREDIT_ENDDATE', 'DAYS_ENDDATE_FACT', 'AMT_CREDIT_MAX_OVERDUE', 'CNT_CREDIT_PROLONG', 'AMT_CREDIT_SUM', 'AMT_CREDIT_SUM_DEBT', 'AMT_CREDIT_SUM_LIMIT', 'AMT_CREDIT_SUM_OVERDUE', 'CREDIT_TYPE', 'DAYS_CREDIT_UPDATE', 'AMT_ANNUITY'], ['SK_ID_BUREAU', 'MONTHS_BALANCE', 'STATUS'], ['SK_ID_PREV', 'SK_ID_CURR', 'MONTHS_BALANCE', 'AMT_BALANCE', 'AMT_CREDIT_LIMIT_ACTUAL', 'AMT_DRAWINGS_ATM_CURRENT', 'AMT_DRAWINGS_CURRENT', 'AMT_DRAWINGS_OTHER_CURRENT', 'AMT_DRAWINGS_POS_CURRENT', 'AMT_INST_MIN_REGULARITY', 'AMT_PAYMENT_CURRENT', 'AMT_PAYMENT_TOTAL_CURRENT', 'AMT_RECEIVABLE_PRINCIPAL', 'AMT_RECIVABLE', 'AMT_TOTAL_RECEIVABLE', 'CNT_DRAWINGS_ATM_CURRENT', 'CNT_DRAWINGS_CURRENT', 'CNT_DRAWINGS_OTHER_CURRENT', 'CNT_DRAWINGS_POS_CURRENT', 'CNT_INSTALMENT_MATURE_CUM', 'NAME_CONTRACT_STATUS', 'SK_DPD', 'SK_DPD_DEF'], ['', 'Table', 'Row', 'Description', 'Special'], ['SK_ID_PREV', 'SK_ID_CURR', 'NUM_INSTALMENT_VERSION', 'NUM_INSTALMENT_NUMBER', 'DAYS_INSTALMENT', 'DAYS_ENTRY_PAYMENT', 'AMT_INSTALMENT', 'AMT_PAYMENT'], ['SK_ID_PREV', 'SK_ID_CURR', 'MONTHS_BALANCE', 'CNT_INSTALMENT', 'CNT_INSTALMENT_FUTURE', 'NAME_CONTRACT_STATUS', 'SK_DPD', 'SK_DPD_DEF'], ['SK_ID_PREV', 'SK_ID_CURR', 'NAME_CONTRACT_TYPE', 'AMT_ANNUITY', 'AMT_APPLICATION', 'AMT_CREDIT', 'AMT_DOWN_PAYMENT', 'AMT_GOODS_PRICE', 'WEEKDAY_APPR_PROCESS_START', 'HOUR_APPR_PROCESS_START', 'FLAG_LAST_APPL_PER_CONTRACT', 'NFLAG_LAST_APPL_IN_DAY', 'RATE_DOWN_PAYMENT', 'RATE_INTEREST_PRIMARY', 'RATE_INTEREST_PRIVILEGED', 'NAME_CASH_LOAN_PURPOSE', 'NAME_CONTRACT_STATUS', 'DAYS_DECISION', 'NAME_PAYMENT_TYPE', 'CODE_REJECT_REASON', 'NAME_TYPE_SUITE', 'NAME_CLIENT_TYPE', 'NAME_GOODS_CATEGORY', 'NAME_PORTFOLIO', 'NAME_PRODUCT_TYPE', 'CHANNEL_TYPE', 'SELLERPLACE_AREA', 'NAME_SELLER_INDUSTRY', 'CNT_PAYMENT', 'NAME_YIELD_GROUP', 'PRODUCT_COMBINATION', 'DAYS_FIRST_DRAWING', 'DAYS_FIRST_DUE', 'DAYS_LAST_DUE_1ST_VERSION', 'DAYS_LAST_DUE', 'DAYS_TERMINATION', 'NFLAG_INSURED_ON_APPROVAL'], ['SK_ID_CURR', 'TARGET']]\n"
     ]
    }
   ],
   "source": [
    "# importing the csv library\n",
    "import csv\n",
    "\n",
    "csv_file_list=list_files(os.getcwd(),\".csv\")\n",
    "\n",
    "# opening the csv file by specifying\n",
    "# the location\n",
    "# with the variable name as csv_file\n",
    "\n",
    "# list to store the names of columns\n",
    "csv_file_names=[]\n",
    "list_of_column_names = []\n",
    "for path in csv_file_list:\n",
    "\tcsv_file=open(path,encoding=\"utf-8\",errors='ignore')\n",
    "\trelative_path = os.path.relpath(path,os.getcwd())\n",
    "\tprint(relative_path[:-4])\n",
    "\tcsv_file_names.append(relative_path[:-4])\n",
    "\tcsv_reader = csv.reader(csv_file, delimiter = ',')\n",
    "\t# loop to iterate through the rows of csv\n",
    "\tfor row in csv_reader:\n",
    "\n",
    "\t\t# adding the first row\n",
    "\t\tlist_of_column_names.append(row)\n",
    "\n",
    "\t\t# breaking the loop after the\n",
    "\t\t# first iteration itself\n",
    "\t\tbreak\n",
    "\n",
    "# printing the result\n",
    "print(\"List of file names : \",csv_file_names)\n",
    "\n",
    "print(\"List of column names : \",list_of_column_names)\n"
   ]
  },
  {
   "cell_type": "code",
   "execution_count": 60,
   "metadata": {},
   "outputs": [],
   "source": [
    "import psycopg2\n",
    "from psycopg2.extensions import ISOLATION_LEVEL_AUTOCOMMIT\n",
    "\n",
    "conn = psycopg2.connect(dbname='Finance',host='127.0.0.1', port='5432',user='warehouse_user_1' ,password='gautham258')\n",
    "cur=conn.cursor()\n"
   ]
  },
  {
   "cell_type": "code",
   "execution_count": null,
   "metadata": {},
   "outputs": [],
   "source": [
    "#https://www.postgresql.org/docs/current/sql-keywords-appendix.html"
   ]
  },
  {
   "cell_type": "code",
   "execution_count": 18,
   "metadata": {},
   "outputs": [
    {
     "name": "stdout",
     "output_type": "stream",
     "text": [
      "CREATE TABLE home_credit_default_risk.application_test(\n",
      "CREATE TABLE home_credit_default_risk.application_test(SK_ID_CURR varchar, NAME_CONTRACT_TYPE varchar, CODE_GENDER varchar, FLAG_OWN_CAR varchar, FLAG_OWN_REALTY varchar, CNT_CHILDREN varchar, AMT_INCOME_TOTAL varchar, AMT_CREDIT varchar, AMT_ANNUITY varchar, AMT_GOODS_PRICE varchar, NAME_TYPE_SUITE varchar, NAME_INCOME_TYPE varchar, NAME_EDUCATION_TYPE varchar, NAME_FAMILY_STATUS varchar, NAME_HOUSING_TYPE varchar, REGION_POPULATION_RELATIVE varchar, DAYS_BIRTH varchar, DAYS_EMPLOYED varchar, DAYS_REGISTRATION varchar, DAYS_ID_PUBLISH varchar, OWN_CAR_AGE varchar, FLAG_MOBIL varchar, FLAG_EMP_PHONE varchar, FLAG_WORK_PHONE varchar, FLAG_CONT_MOBILE varchar, FLAG_PHONE varchar, FLAG_EMAIL varchar, OCCUPATION_TYPE varchar, CNT_FAM_MEMBERS varchar, REGION_RATING_CLIENT varchar, REGION_RATING_CLIENT_W_CITY varchar, WEEKDAY_APPR_PROCESS_START varchar, HOUR_APPR_PROCESS_START varchar, REG_REGION_NOT_LIVE_REGION varchar, REG_REGION_NOT_WORK_REGION varchar, LIVE_REGION_NOT_WORK_REGION varchar, REG_CITY_NOT_LIVE_CITY varchar, REG_CITY_NOT_WORK_CITY varchar, LIVE_CITY_NOT_WORK_CITY varchar, ORGANIZATION_TYPE varchar, EXT_SOURCE_1 varchar, EXT_SOURCE_2 varchar, EXT_SOURCE_3 varchar, APARTMENTS_AVG varchar, BASEMENTAREA_AVG varchar, YEARS_BEGINEXPLUATATION_AVG varchar, YEARS_BUILD_AVG varchar, COMMONAREA_AVG varchar, ELEVATORS_AVG varchar, ENTRANCES_AVG varchar, FLOORSMAX_AVG varchar, FLOORSMIN_AVG varchar, LANDAREA_AVG varchar, LIVINGAPARTMENTS_AVG varchar, LIVINGAREA_AVG varchar, NONLIVINGAPARTMENTS_AVG varchar, NONLIVINGAREA_AVG varchar, APARTMENTS_MODE varchar, BASEMENTAREA_MODE varchar, YEARS_BEGINEXPLUATATION_MODE varchar, YEARS_BUILD_MODE varchar, COMMONAREA_MODE varchar, ELEVATORS_MODE varchar, ENTRANCES_MODE varchar, FLOORSMAX_MODE varchar, FLOORSMIN_MODE varchar, LANDAREA_MODE varchar, LIVINGAPARTMENTS_MODE varchar, LIVINGAREA_MODE varchar, NONLIVINGAPARTMENTS_MODE varchar, NONLIVINGAREA_MODE varchar, APARTMENTS_MEDI varchar, BASEMENTAREA_MEDI varchar, YEARS_BEGINEXPLUATATION_MEDI varchar, YEARS_BUILD_MEDI varchar, COMMONAREA_MEDI varchar, ELEVATORS_MEDI varchar, ENTRANCES_MEDI varchar, FLOORSMAX_MEDI varchar, FLOORSMIN_MEDI varchar, LANDAREA_MEDI varchar, LIVINGAPARTMENTS_MEDI varchar, LIVINGAREA_MEDI varchar, NONLIVINGAPARTMENTS_MEDI varchar, NONLIVINGAREA_MEDI varchar, FONDKAPREMONT_MODE varchar, HOUSETYPE_MODE varchar, TOTALAREA_MODE varchar, WALLSMATERIAL_MODE varchar, EMERGENCYSTATE_MODE varchar, OBS_30_CNT_SOCIAL_CIRCLE varchar, DEF_30_CNT_SOCIAL_CIRCLE varchar, OBS_60_CNT_SOCIAL_CIRCLE varchar, DEF_60_CNT_SOCIAL_CIRCLE varchar, DAYS_LAST_PHONE_CHANGE varchar, FLAG_DOCUMENT_2 varchar, FLAG_DOCUMENT_3 varchar, FLAG_DOCUMENT_4 varchar, FLAG_DOCUMENT_5 varchar, FLAG_DOCUMENT_6 varchar, FLAG_DOCUMENT_7 varchar, FLAG_DOCUMENT_8 varchar, FLAG_DOCUMENT_9 varchar, FLAG_DOCUMENT_10 varchar, FLAG_DOCUMENT_11 varchar, FLAG_DOCUMENT_12 varchar, FLAG_DOCUMENT_13 varchar, FLAG_DOCUMENT_14 varchar, FLAG_DOCUMENT_15 varchar, FLAG_DOCUMENT_16 varchar, FLAG_DOCUMENT_17 varchar, FLAG_DOCUMENT_18 varchar, FLAG_DOCUMENT_19 varchar, FLAG_DOCUMENT_20 varchar, FLAG_DOCUMENT_21 varchar, AMT_REQ_CREDIT_BUREAU_HOUR varchar, AMT_REQ_CREDIT_BUREAU_DAY varchar, AMT_REQ_CREDIT_BUREAU_WEEK varchar, AMT_REQ_CREDIT_BUREAU_MON varchar, AMT_REQ_CREDIT_BUREAU_QRT varchar, AMT_REQ_CREDIT_BUREAU_YEAR varchar, \n",
      "CREATE TABLE home_credit_default_risk.application_test(SK_ID_CURR varchar, NAME_CONTRACT_TYPE varchar, CODE_GENDER varchar, FLAG_OWN_CAR varchar, FLAG_OWN_REALTY varchar, CNT_CHILDREN varchar, AMT_INCOME_TOTAL varchar, AMT_CREDIT varchar, AMT_ANNUITY varchar, AMT_GOODS_PRICE varchar, NAME_TYPE_SUITE varchar, NAME_INCOME_TYPE varchar, NAME_EDUCATION_TYPE varchar, NAME_FAMILY_STATUS varchar, NAME_HOUSING_TYPE varchar, REGION_POPULATION_RELATIVE varchar, DAYS_BIRTH varchar, DAYS_EMPLOYED varchar, DAYS_REGISTRATION varchar, DAYS_ID_PUBLISH varchar, OWN_CAR_AGE varchar, FLAG_MOBIL varchar, FLAG_EMP_PHONE varchar, FLAG_WORK_PHONE varchar, FLAG_CONT_MOBILE varchar, FLAG_PHONE varchar, FLAG_EMAIL varchar, OCCUPATION_TYPE varchar, CNT_FAM_MEMBERS varchar, REGION_RATING_CLIENT varchar, REGION_RATING_CLIENT_W_CITY varchar, WEEKDAY_APPR_PROCESS_START varchar, HOUR_APPR_PROCESS_START varchar, REG_REGION_NOT_LIVE_REGION varchar, REG_REGION_NOT_WORK_REGION varchar, LIVE_REGION_NOT_WORK_REGION varchar, REG_CITY_NOT_LIVE_CITY varchar, REG_CITY_NOT_WORK_CITY varchar, LIVE_CITY_NOT_WORK_CITY varchar, ORGANIZATION_TYPE varchar, EXT_SOURCE_1 varchar, EXT_SOURCE_2 varchar, EXT_SOURCE_3 varchar, APARTMENTS_AVG varchar, BASEMENTAREA_AVG varchar, YEARS_BEGINEXPLUATATION_AVG varchar, YEARS_BUILD_AVG varchar, COMMONAREA_AVG varchar, ELEVATORS_AVG varchar, ENTRANCES_AVG varchar, FLOORSMAX_AVG varchar, FLOORSMIN_AVG varchar, LANDAREA_AVG varchar, LIVINGAPARTMENTS_AVG varchar, LIVINGAREA_AVG varchar, NONLIVINGAPARTMENTS_AVG varchar, NONLIVINGAREA_AVG varchar, APARTMENTS_MODE varchar, BASEMENTAREA_MODE varchar, YEARS_BEGINEXPLUATATION_MODE varchar, YEARS_BUILD_MODE varchar, COMMONAREA_MODE varchar, ELEVATORS_MODE varchar, ENTRANCES_MODE varchar, FLOORSMAX_MODE varchar, FLOORSMIN_MODE varchar, LANDAREA_MODE varchar, LIVINGAPARTMENTS_MODE varchar, LIVINGAREA_MODE varchar, NONLIVINGAPARTMENTS_MODE varchar, NONLIVINGAREA_MODE varchar, APARTMENTS_MEDI varchar, BASEMENTAREA_MEDI varchar, YEARS_BEGINEXPLUATATION_MEDI varchar, YEARS_BUILD_MEDI varchar, COMMONAREA_MEDI varchar, ELEVATORS_MEDI varchar, ENTRANCES_MEDI varchar, FLOORSMAX_MEDI varchar, FLOORSMIN_MEDI varchar, LANDAREA_MEDI varchar, LIVINGAPARTMENTS_MEDI varchar, LIVINGAREA_MEDI varchar, NONLIVINGAPARTMENTS_MEDI varchar, NONLIVINGAREA_MEDI varchar, FONDKAPREMONT_MODE varchar, HOUSETYPE_MODE varchar, TOTALAREA_MODE varchar, WALLSMATERIAL_MODE varchar, EMERGENCYSTATE_MODE varchar, OBS_30_CNT_SOCIAL_CIRCLE varchar, DEF_30_CNT_SOCIAL_CIRCLE varchar, OBS_60_CNT_SOCIAL_CIRCLE varchar, DEF_60_CNT_SOCIAL_CIRCLE varchar, DAYS_LAST_PHONE_CHANGE varchar, FLAG_DOCUMENT_2 varchar, FLAG_DOCUMENT_3 varchar, FLAG_DOCUMENT_4 varchar, FLAG_DOCUMENT_5 varchar, FLAG_DOCUMENT_6 varchar, FLAG_DOCUMENT_7 varchar, FLAG_DOCUMENT_8 varchar, FLAG_DOCUMENT_9 varchar, FLAG_DOCUMENT_10 varchar, FLAG_DOCUMENT_11 varchar, FLAG_DOCUMENT_12 varchar, FLAG_DOCUMENT_13 varchar, FLAG_DOCUMENT_14 varchar, FLAG_DOCUMENT_15 varchar, FLAG_DOCUMENT_16 varchar, FLAG_DOCUMENT_17 varchar, FLAG_DOCUMENT_18 varchar, FLAG_DOCUMENT_19 varchar, FLAG_DOCUMENT_20 varchar, FLAG_DOCUMENT_21 varchar, AMT_REQ_CREDIT_BUREAU_HOUR varchar, AMT_REQ_CREDIT_BUREAU_DAY varchar, AMT_REQ_CREDIT_BUREAU_WEEK varchar, AMT_REQ_CREDIT_BUREAU_MON varchar, AMT_REQ_CREDIT_BUREAU_QRT varchar, AMT_REQ_CREDIT_BUREAU_YEAR varchar)\n",
      "CREATE TABLE home_credit_default_risk.application_train(\n",
      "CREATE TABLE home_credit_default_risk.application_train(SK_ID_CURR varchar, TARGET varchar, NAME_CONTRACT_TYPE varchar, CODE_GENDER varchar, FLAG_OWN_CAR varchar, FLAG_OWN_REALTY varchar, CNT_CHILDREN varchar, AMT_INCOME_TOTAL varchar, AMT_CREDIT varchar, AMT_ANNUITY varchar, AMT_GOODS_PRICE varchar, NAME_TYPE_SUITE varchar, NAME_INCOME_TYPE varchar, NAME_EDUCATION_TYPE varchar, NAME_FAMILY_STATUS varchar, NAME_HOUSING_TYPE varchar, REGION_POPULATION_RELATIVE varchar, DAYS_BIRTH varchar, DAYS_EMPLOYED varchar, DAYS_REGISTRATION varchar, DAYS_ID_PUBLISH varchar, OWN_CAR_AGE varchar, FLAG_MOBIL varchar, FLAG_EMP_PHONE varchar, FLAG_WORK_PHONE varchar, FLAG_CONT_MOBILE varchar, FLAG_PHONE varchar, FLAG_EMAIL varchar, OCCUPATION_TYPE varchar, CNT_FAM_MEMBERS varchar, REGION_RATING_CLIENT varchar, REGION_RATING_CLIENT_W_CITY varchar, WEEKDAY_APPR_PROCESS_START varchar, HOUR_APPR_PROCESS_START varchar, REG_REGION_NOT_LIVE_REGION varchar, REG_REGION_NOT_WORK_REGION varchar, LIVE_REGION_NOT_WORK_REGION varchar, REG_CITY_NOT_LIVE_CITY varchar, REG_CITY_NOT_WORK_CITY varchar, LIVE_CITY_NOT_WORK_CITY varchar, ORGANIZATION_TYPE varchar, EXT_SOURCE_1 varchar, EXT_SOURCE_2 varchar, EXT_SOURCE_3 varchar, APARTMENTS_AVG varchar, BASEMENTAREA_AVG varchar, YEARS_BEGINEXPLUATATION_AVG varchar, YEARS_BUILD_AVG varchar, COMMONAREA_AVG varchar, ELEVATORS_AVG varchar, ENTRANCES_AVG varchar, FLOORSMAX_AVG varchar, FLOORSMIN_AVG varchar, LANDAREA_AVG varchar, LIVINGAPARTMENTS_AVG varchar, LIVINGAREA_AVG varchar, NONLIVINGAPARTMENTS_AVG varchar, NONLIVINGAREA_AVG varchar, APARTMENTS_MODE varchar, BASEMENTAREA_MODE varchar, YEARS_BEGINEXPLUATATION_MODE varchar, YEARS_BUILD_MODE varchar, COMMONAREA_MODE varchar, ELEVATORS_MODE varchar, ENTRANCES_MODE varchar, FLOORSMAX_MODE varchar, FLOORSMIN_MODE varchar, LANDAREA_MODE varchar, LIVINGAPARTMENTS_MODE varchar, LIVINGAREA_MODE varchar, NONLIVINGAPARTMENTS_MODE varchar, NONLIVINGAREA_MODE varchar, APARTMENTS_MEDI varchar, BASEMENTAREA_MEDI varchar, YEARS_BEGINEXPLUATATION_MEDI varchar, YEARS_BUILD_MEDI varchar, COMMONAREA_MEDI varchar, ELEVATORS_MEDI varchar, ENTRANCES_MEDI varchar, FLOORSMAX_MEDI varchar, FLOORSMIN_MEDI varchar, LANDAREA_MEDI varchar, LIVINGAPARTMENTS_MEDI varchar, LIVINGAREA_MEDI varchar, NONLIVINGAPARTMENTS_MEDI varchar, NONLIVINGAREA_MEDI varchar, FONDKAPREMONT_MODE varchar, HOUSETYPE_MODE varchar, TOTALAREA_MODE varchar, WALLSMATERIAL_MODE varchar, EMERGENCYSTATE_MODE varchar, OBS_30_CNT_SOCIAL_CIRCLE varchar, DEF_30_CNT_SOCIAL_CIRCLE varchar, OBS_60_CNT_SOCIAL_CIRCLE varchar, DEF_60_CNT_SOCIAL_CIRCLE varchar, DAYS_LAST_PHONE_CHANGE varchar, FLAG_DOCUMENT_2 varchar, FLAG_DOCUMENT_3 varchar, FLAG_DOCUMENT_4 varchar, FLAG_DOCUMENT_5 varchar, FLAG_DOCUMENT_6 varchar, FLAG_DOCUMENT_7 varchar, FLAG_DOCUMENT_8 varchar, FLAG_DOCUMENT_9 varchar, FLAG_DOCUMENT_10 varchar, FLAG_DOCUMENT_11 varchar, FLAG_DOCUMENT_12 varchar, FLAG_DOCUMENT_13 varchar, FLAG_DOCUMENT_14 varchar, FLAG_DOCUMENT_15 varchar, FLAG_DOCUMENT_16 varchar, FLAG_DOCUMENT_17 varchar, FLAG_DOCUMENT_18 varchar, FLAG_DOCUMENT_19 varchar, FLAG_DOCUMENT_20 varchar, FLAG_DOCUMENT_21 varchar, AMT_REQ_CREDIT_BUREAU_HOUR varchar, AMT_REQ_CREDIT_BUREAU_DAY varchar, AMT_REQ_CREDIT_BUREAU_WEEK varchar, AMT_REQ_CREDIT_BUREAU_MON varchar, AMT_REQ_CREDIT_BUREAU_QRT varchar, AMT_REQ_CREDIT_BUREAU_YEAR varchar, \n",
      "CREATE TABLE home_credit_default_risk.application_train(SK_ID_CURR varchar, TARGET varchar, NAME_CONTRACT_TYPE varchar, CODE_GENDER varchar, FLAG_OWN_CAR varchar, FLAG_OWN_REALTY varchar, CNT_CHILDREN varchar, AMT_INCOME_TOTAL varchar, AMT_CREDIT varchar, AMT_ANNUITY varchar, AMT_GOODS_PRICE varchar, NAME_TYPE_SUITE varchar, NAME_INCOME_TYPE varchar, NAME_EDUCATION_TYPE varchar, NAME_FAMILY_STATUS varchar, NAME_HOUSING_TYPE varchar, REGION_POPULATION_RELATIVE varchar, DAYS_BIRTH varchar, DAYS_EMPLOYED varchar, DAYS_REGISTRATION varchar, DAYS_ID_PUBLISH varchar, OWN_CAR_AGE varchar, FLAG_MOBIL varchar, FLAG_EMP_PHONE varchar, FLAG_WORK_PHONE varchar, FLAG_CONT_MOBILE varchar, FLAG_PHONE varchar, FLAG_EMAIL varchar, OCCUPATION_TYPE varchar, CNT_FAM_MEMBERS varchar, REGION_RATING_CLIENT varchar, REGION_RATING_CLIENT_W_CITY varchar, WEEKDAY_APPR_PROCESS_START varchar, HOUR_APPR_PROCESS_START varchar, REG_REGION_NOT_LIVE_REGION varchar, REG_REGION_NOT_WORK_REGION varchar, LIVE_REGION_NOT_WORK_REGION varchar, REG_CITY_NOT_LIVE_CITY varchar, REG_CITY_NOT_WORK_CITY varchar, LIVE_CITY_NOT_WORK_CITY varchar, ORGANIZATION_TYPE varchar, EXT_SOURCE_1 varchar, EXT_SOURCE_2 varchar, EXT_SOURCE_3 varchar, APARTMENTS_AVG varchar, BASEMENTAREA_AVG varchar, YEARS_BEGINEXPLUATATION_AVG varchar, YEARS_BUILD_AVG varchar, COMMONAREA_AVG varchar, ELEVATORS_AVG varchar, ENTRANCES_AVG varchar, FLOORSMAX_AVG varchar, FLOORSMIN_AVG varchar, LANDAREA_AVG varchar, LIVINGAPARTMENTS_AVG varchar, LIVINGAREA_AVG varchar, NONLIVINGAPARTMENTS_AVG varchar, NONLIVINGAREA_AVG varchar, APARTMENTS_MODE varchar, BASEMENTAREA_MODE varchar, YEARS_BEGINEXPLUATATION_MODE varchar, YEARS_BUILD_MODE varchar, COMMONAREA_MODE varchar, ELEVATORS_MODE varchar, ENTRANCES_MODE varchar, FLOORSMAX_MODE varchar, FLOORSMIN_MODE varchar, LANDAREA_MODE varchar, LIVINGAPARTMENTS_MODE varchar, LIVINGAREA_MODE varchar, NONLIVINGAPARTMENTS_MODE varchar, NONLIVINGAREA_MODE varchar, APARTMENTS_MEDI varchar, BASEMENTAREA_MEDI varchar, YEARS_BEGINEXPLUATATION_MEDI varchar, YEARS_BUILD_MEDI varchar, COMMONAREA_MEDI varchar, ELEVATORS_MEDI varchar, ENTRANCES_MEDI varchar, FLOORSMAX_MEDI varchar, FLOORSMIN_MEDI varchar, LANDAREA_MEDI varchar, LIVINGAPARTMENTS_MEDI varchar, LIVINGAREA_MEDI varchar, NONLIVINGAPARTMENTS_MEDI varchar, NONLIVINGAREA_MEDI varchar, FONDKAPREMONT_MODE varchar, HOUSETYPE_MODE varchar, TOTALAREA_MODE varchar, WALLSMATERIAL_MODE varchar, EMERGENCYSTATE_MODE varchar, OBS_30_CNT_SOCIAL_CIRCLE varchar, DEF_30_CNT_SOCIAL_CIRCLE varchar, OBS_60_CNT_SOCIAL_CIRCLE varchar, DEF_60_CNT_SOCIAL_CIRCLE varchar, DAYS_LAST_PHONE_CHANGE varchar, FLAG_DOCUMENT_2 varchar, FLAG_DOCUMENT_3 varchar, FLAG_DOCUMENT_4 varchar, FLAG_DOCUMENT_5 varchar, FLAG_DOCUMENT_6 varchar, FLAG_DOCUMENT_7 varchar, FLAG_DOCUMENT_8 varchar, FLAG_DOCUMENT_9 varchar, FLAG_DOCUMENT_10 varchar, FLAG_DOCUMENT_11 varchar, FLAG_DOCUMENT_12 varchar, FLAG_DOCUMENT_13 varchar, FLAG_DOCUMENT_14 varchar, FLAG_DOCUMENT_15 varchar, FLAG_DOCUMENT_16 varchar, FLAG_DOCUMENT_17 varchar, FLAG_DOCUMENT_18 varchar, FLAG_DOCUMENT_19 varchar, FLAG_DOCUMENT_20 varchar, FLAG_DOCUMENT_21 varchar, AMT_REQ_CREDIT_BUREAU_HOUR varchar, AMT_REQ_CREDIT_BUREAU_DAY varchar, AMT_REQ_CREDIT_BUREAU_WEEK varchar, AMT_REQ_CREDIT_BUREAU_MON varchar, AMT_REQ_CREDIT_BUREAU_QRT varchar, AMT_REQ_CREDIT_BUREAU_YEAR varchar)\n",
      "CREATE TABLE home_credit_default_risk.bureau(\n",
      "CREATE TABLE home_credit_default_risk.bureau(SK_ID_CURR varchar, SK_ID_BUREAU varchar, CREDIT_ACTIVE varchar, CREDIT_CURRENCY varchar, DAYS_CREDIT varchar, CREDIT_DAY_OVERDUE varchar, DAYS_CREDIT_ENDDATE varchar, DAYS_ENDDATE_FACT varchar, AMT_CREDIT_MAX_OVERDUE varchar, CNT_CREDIT_PROLONG varchar, AMT_CREDIT_SUM varchar, AMT_CREDIT_SUM_DEBT varchar, AMT_CREDIT_SUM_LIMIT varchar, AMT_CREDIT_SUM_OVERDUE varchar, CREDIT_TYPE varchar, DAYS_CREDIT_UPDATE varchar, AMT_ANNUITY varchar, \n",
      "CREATE TABLE home_credit_default_risk.bureau(SK_ID_CURR varchar, SK_ID_BUREAU varchar, CREDIT_ACTIVE varchar, CREDIT_CURRENCY varchar, DAYS_CREDIT varchar, CREDIT_DAY_OVERDUE varchar, DAYS_CREDIT_ENDDATE varchar, DAYS_ENDDATE_FACT varchar, AMT_CREDIT_MAX_OVERDUE varchar, CNT_CREDIT_PROLONG varchar, AMT_CREDIT_SUM varchar, AMT_CREDIT_SUM_DEBT varchar, AMT_CREDIT_SUM_LIMIT varchar, AMT_CREDIT_SUM_OVERDUE varchar, CREDIT_TYPE varchar, DAYS_CREDIT_UPDATE varchar, AMT_ANNUITY varchar)\n",
      "CREATE TABLE home_credit_default_risk.bureau_balance(\n",
      "CREATE TABLE home_credit_default_risk.bureau_balance(SK_ID_BUREAU varchar, MONTHS_BALANCE varchar, STATUS varchar, \n",
      "CREATE TABLE home_credit_default_risk.bureau_balance(SK_ID_BUREAU varchar, MONTHS_BALANCE varchar, STATUS varchar)\n",
      "CREATE TABLE home_credit_default_risk.credit_card_balance(\n",
      "CREATE TABLE home_credit_default_risk.credit_card_balance(SK_ID_PREV varchar, SK_ID_CURR varchar, MONTHS_BALANCE varchar, AMT_BALANCE varchar, AMT_CREDIT_LIMIT_ACTUAL varchar, AMT_DRAWINGS_ATM_CURRENT varchar, AMT_DRAWINGS_CURRENT varchar, AMT_DRAWINGS_OTHER_CURRENT varchar, AMT_DRAWINGS_POS_CURRENT varchar, AMT_INST_MIN_REGULARITY varchar, AMT_PAYMENT_CURRENT varchar, AMT_PAYMENT_TOTAL_CURRENT varchar, AMT_RECEIVABLE_PRINCIPAL varchar, AMT_RECIVABLE varchar, AMT_TOTAL_RECEIVABLE varchar, CNT_DRAWINGS_ATM_CURRENT varchar, CNT_DRAWINGS_CURRENT varchar, CNT_DRAWINGS_OTHER_CURRENT varchar, CNT_DRAWINGS_POS_CURRENT varchar, CNT_INSTALMENT_MATURE_CUM varchar, NAME_CONTRACT_STATUS varchar, SK_DPD varchar, SK_DPD_DEF varchar, \n",
      "CREATE TABLE home_credit_default_risk.credit_card_balance(SK_ID_PREV varchar, SK_ID_CURR varchar, MONTHS_BALANCE varchar, AMT_BALANCE varchar, AMT_CREDIT_LIMIT_ACTUAL varchar, AMT_DRAWINGS_ATM_CURRENT varchar, AMT_DRAWINGS_CURRENT varchar, AMT_DRAWINGS_OTHER_CURRENT varchar, AMT_DRAWINGS_POS_CURRENT varchar, AMT_INST_MIN_REGULARITY varchar, AMT_PAYMENT_CURRENT varchar, AMT_PAYMENT_TOTAL_CURRENT varchar, AMT_RECEIVABLE_PRINCIPAL varchar, AMT_RECIVABLE varchar, AMT_TOTAL_RECEIVABLE varchar, CNT_DRAWINGS_ATM_CURRENT varchar, CNT_DRAWINGS_CURRENT varchar, CNT_DRAWINGS_OTHER_CURRENT varchar, CNT_DRAWINGS_POS_CURRENT varchar, CNT_INSTALMENT_MATURE_CUM varchar, NAME_CONTRACT_STATUS varchar, SK_DPD varchar, SK_DPD_DEF varchar)\n",
      "CREATE TABLE home_credit_default_risk.HomeCredit_columns_description(\n",
      "CREATE TABLE home_credit_default_risk.HomeCredit_columns_description(null_column_1 varchar, Tablenull_column_2 varchar, Rownull_column_3 varchar, Description varchar, Special varchar, \n",
      "CREATE TABLE home_credit_default_risk.HomeCredit_columns_description(null_column_1 varchar, Tablenull_column_2 varchar, Rownull_column_3 varchar, Description varchar, Special varchar)\n",
      "CREATE TABLE home_credit_default_risk.installments_payments(\n",
      "CREATE TABLE home_credit_default_risk.installments_payments(SK_ID_PREV varchar, SK_ID_CURR varchar, NUM_INSTALMENT_VERSION varchar, NUM_INSTALMENT_NUMBER varchar, DAYS_INSTALMENT varchar, DAYS_ENTRY_PAYMENT varchar, AMT_INSTALMENT varchar, AMT_PAYMENT varchar, \n",
      "CREATE TABLE home_credit_default_risk.installments_payments(SK_ID_PREV varchar, SK_ID_CURR varchar, NUM_INSTALMENT_VERSION varchar, NUM_INSTALMENT_NUMBER varchar, DAYS_INSTALMENT varchar, DAYS_ENTRY_PAYMENT varchar, AMT_INSTALMENT varchar, AMT_PAYMENT varchar)\n",
      "CREATE TABLE home_credit_default_risk.POS_CASH_balance(\n",
      "CREATE TABLE home_credit_default_risk.POS_CASH_balance(SK_ID_PREV varchar, SK_ID_CURR varchar, MONTHS_BALANCE varchar, CNT_INSTALMENT varchar, CNT_INSTALMENT_FUTURE varchar, NAME_CONTRACT_STATUS varchar, SK_DPD varchar, SK_DPD_DEF varchar, \n",
      "CREATE TABLE home_credit_default_risk.POS_CASH_balance(SK_ID_PREV varchar, SK_ID_CURR varchar, MONTHS_BALANCE varchar, CNT_INSTALMENT varchar, CNT_INSTALMENT_FUTURE varchar, NAME_CONTRACT_STATUS varchar, SK_DPD varchar, SK_DPD_DEF varchar)\n",
      "CREATE TABLE home_credit_default_risk.previous_application(\n",
      "CREATE TABLE home_credit_default_risk.previous_application(SK_ID_PREV varchar, SK_ID_CURR varchar, NAME_CONTRACT_TYPE varchar, AMT_ANNUITY varchar, AMT_APPLICATION varchar, AMT_CREDIT varchar, AMT_DOWN_PAYMENT varchar, AMT_GOODS_PRICE varchar, WEEKDAY_APPR_PROCESS_START varchar, HOUR_APPR_PROCESS_START varchar, FLAG_LAST_APPL_PER_CONTRACT varchar, NFLAG_LAST_APPL_IN_DAY varchar, RATE_DOWN_PAYMENT varchar, RATE_INTEREST_PRIMARY varchar, RATE_INTEREST_PRIVILEGED varchar, NAME_CASH_LOAN_PURPOSE varchar, NAME_CONTRACT_STATUS varchar, DAYS_DECISION varchar, NAME_PAYMENT_TYPE varchar, CODE_REJECT_REASON varchar, NAME_TYPE_SUITE varchar, NAME_CLIENT_TYPE varchar, NAME_GOODS_CATEGORY varchar, NAME_PORTFOLIO varchar, NAME_PRODUCT_TYPE varchar, CHANNEL_TYPE varchar, SELLERPLACE_AREA varchar, NAME_SELLER_INDUSTRY varchar, CNT_PAYMENT varchar, NAME_YIELD_GROUP varchar, PRODUCT_COMBINATION varchar, DAYS_FIRST_DRAWING varchar, DAYS_FIRST_DUE varchar, DAYS_LAST_DUE_1ST_VERSION varchar, DAYS_LAST_DUE varchar, DAYS_TERMINATION varchar, NFLAG_INSURED_ON_APPROVAL varchar, \n",
      "CREATE TABLE home_credit_default_risk.previous_application(SK_ID_PREV varchar, SK_ID_CURR varchar, NAME_CONTRACT_TYPE varchar, AMT_ANNUITY varchar, AMT_APPLICATION varchar, AMT_CREDIT varchar, AMT_DOWN_PAYMENT varchar, AMT_GOODS_PRICE varchar, WEEKDAY_APPR_PROCESS_START varchar, HOUR_APPR_PROCESS_START varchar, FLAG_LAST_APPL_PER_CONTRACT varchar, NFLAG_LAST_APPL_IN_DAY varchar, RATE_DOWN_PAYMENT varchar, RATE_INTEREST_PRIMARY varchar, RATE_INTEREST_PRIVILEGED varchar, NAME_CASH_LOAN_PURPOSE varchar, NAME_CONTRACT_STATUS varchar, DAYS_DECISION varchar, NAME_PAYMENT_TYPE varchar, CODE_REJECT_REASON varchar, NAME_TYPE_SUITE varchar, NAME_CLIENT_TYPE varchar, NAME_GOODS_CATEGORY varchar, NAME_PORTFOLIO varchar, NAME_PRODUCT_TYPE varchar, CHANNEL_TYPE varchar, SELLERPLACE_AREA varchar, NAME_SELLER_INDUSTRY varchar, CNT_PAYMENT varchar, NAME_YIELD_GROUP varchar, PRODUCT_COMBINATION varchar, DAYS_FIRST_DRAWING varchar, DAYS_FIRST_DUE varchar, DAYS_LAST_DUE_1ST_VERSION varchar, DAYS_LAST_DUE varchar, DAYS_TERMINATION varchar, NFLAG_INSURED_ON_APPROVAL varchar)\n",
      "CREATE TABLE home_credit_default_risk.sample_submission(\n",
      "CREATE TABLE home_credit_default_risk.sample_submission(SK_ID_CURR varchar, TARGET varchar, \n",
      "CREATE TABLE home_credit_default_risk.sample_submission(SK_ID_CURR varchar, TARGET varchar)\n"
     ]
    }
   ],
   "source": [
    "schema_name='home_credit_default_risk'\n",
    "cur.execute(\"CREATE SCHEMA \"+schema_name+\";\")\n",
    "\n",
    "null_column_counter=1\n",
    "for i in range(0,len(csv_file_names)):\n",
    "#for i in [5]:\n",
    "    create_query=\"CREATE TABLE \"+schema_name+\".\"+csv_file_names[i]+\"(\"\n",
    "    print(create_query)\n",
    "    for col in list_of_column_names[i]:\n",
    "        if(col in ('','Table','table','Row')):\n",
    "            create_query=create_query+col+\"null_column_\"+str(null_column_counter)+\" varchar, \"\n",
    "            null_column_counter+=1\n",
    "        else:\n",
    "            create_query=create_query+col+\" varchar, \"\n",
    "            \n",
    "    print(create_query)\n",
    "    create_query=create_query[:-2]+\")\"\n",
    "    print(create_query)\n",
    "    cur.execute(create_query)\n",
    "\n"
   ]
  },
  {
   "cell_type": "code",
   "execution_count": 72,
   "metadata": {},
   "outputs": [],
   "source": [
    "conn.rollback()"
   ]
  },
  {
   "cell_type": "code",
   "execution_count": 84,
   "metadata": {},
   "outputs": [],
   "source": [
    "conn.commit()"
   ]
  },
  {
   "cell_type": "code",
   "execution_count": 85,
   "metadata": {},
   "outputs": [],
   "source": [
    "cur.close()\n",
    "conn.close()"
   ]
  },
  {
   "cell_type": "code",
   "execution_count": 10,
   "metadata": {},
   "outputs": [],
   "source": [
    "import os \n",
    "os.chdir(\"Staging_Files_Kaggle\\\\home-credit-default-risk\\\\\")"
   ]
  },
  {
   "cell_type": "code",
   "execution_count": 58,
   "metadata": {},
   "outputs": [
    {
     "data": {
      "text/plain": [
       "[('D:/PostgreSQL/14/data',)]"
      ]
     },
     "execution_count": 58,
     "metadata": {},
     "output_type": "execute_result"
    }
   ],
   "source": [
    "cur.execute(\"SHOW data_directory\")\n",
    "txt=cur.fetchall()\n",
    "txt"
   ]
  },
  {
   "cell_type": "code",
   "execution_count": 82,
   "metadata": {},
   "outputs": [],
   "source": [
    "conn.rollback()"
   ]
  },
  {
   "cell_type": "code",
   "execution_count": 83,
   "metadata": {},
   "outputs": [
    {
     "data": {
      "text/plain": [
       "[('1',\n",
       "  'application_{train|test}.csv',\n",
       "  'SK_ID_CURR',\n",
       "  'ID of loan in our sample',\n",
       "  None),\n",
       " ('2',\n",
       "  'application_{train|test}.csv',\n",
       "  'TARGET',\n",
       "  'Target variable (1 - client with payment difficulties: he/she had late payment more than X days on at least one of the first Y installments of the loan in our sample, 0 - all other cases)',\n",
       "  None),\n",
       " ('5',\n",
       "  'application_{train|test}.csv',\n",
       "  'NAME_CONTRACT_TYPE',\n",
       "  'Identification if loan is cash or revolving',\n",
       "  None),\n",
       " ('6',\n",
       "  'application_{train|test}.csv',\n",
       "  'CODE_GENDER',\n",
       "  'Gender of the client',\n",
       "  None),\n",
       " ('7',\n",
       "  'application_{train|test}.csv',\n",
       "  'FLAG_OWN_CAR',\n",
       "  'Flag if the client owns a car',\n",
       "  None),\n",
       " ('8',\n",
       "  'application_{train|test}.csv',\n",
       "  'FLAG_OWN_REALTY',\n",
       "  'Flag if client owns a house or flat',\n",
       "  None),\n",
       " ('9',\n",
       "  'application_{train|test}.csv',\n",
       "  'CNT_CHILDREN',\n",
       "  'Number of children the client has',\n",
       "  None),\n",
       " ('10',\n",
       "  'application_{train|test}.csv',\n",
       "  'AMT_INCOME_TOTAL',\n",
       "  'Income of the client',\n",
       "  None),\n",
       " ('11',\n",
       "  'application_{train|test}.csv',\n",
       "  'AMT_CREDIT',\n",
       "  'Credit amount of the loan',\n",
       "  None),\n",
       " ('12', 'application_{train|test}.csv', 'AMT_ANNUITY', 'Loan annuity', None)]"
      ]
     },
     "execution_count": 83,
     "metadata": {},
     "output_type": "execute_result"
    }
   ],
   "source": [
    "f = open(\"D:\\\\Projects\\\\Warehousing\\\\Staging_Files_Kaggle\\\\home-credit-default-risk\\\\HomeCredit_columns_description.csv\", \"r\",encoding='utf-8', errors='ignore')\n",
    "sql_code=\"COPY home_credit_default_risk.HomeCredit_columns_description from STDIN WITH CSV HEADER DELIMITER ',';\"\n",
    "cur.copy_expert(sql_code,f)\n",
    "cur.execute(\"Select * from home_credit_default_risk.HomeCredit_columns_description limit 10\")\n",
    "txt=cur.fetchall()\n",
    "txt"
   ]
  }
 ],
 "metadata": {
  "interpreter": {
   "hash": "caa9d7c011c3adcd7fe0c609f868820d494a9510a951e24a06697aa920ac156c"
  },
  "kernelspec": {
   "display_name": "Python 3.9.12 ('KaggleWarehouse')",
   "language": "python",
   "name": "python3"
  },
  "language_info": {
   "codemirror_mode": {
    "name": "ipython",
    "version": 3
   },
   "file_extension": ".py",
   "mimetype": "text/x-python",
   "name": "python",
   "nbconvert_exporter": "python",
   "pygments_lexer": "ipython3",
   "version": "3.9.12"
  },
  "orig_nbformat": 4
 },
 "nbformat": 4,
 "nbformat_minor": 2
}
